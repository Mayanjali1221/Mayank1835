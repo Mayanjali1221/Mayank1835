{
 "cells": [
  {
   "cell_type": "code",
   "execution_count": null,
   "id": "77408284",
   "metadata": {},
   "outputs": [],
   "source": [
    "# Import libraries\n",
    "import pandas as pd\n",
    "import numpy as np\n",
    "import matplotlib.pyplot as plt\n",
    "import seaborn as sns\n",
    "\n",
    "import warnings\n",
    "warnings.filterwarnings('ignore')"
   ]
  },
  {
   "cell_type": "code",
   "execution_count": null,
   "id": "53136687",
   "metadata": {},
   "outputs": [],
   "source": [
    "# Importing dataset\n",
    "dataset = pd.read_csv('adult.csv')"
   ]
  },
  {
   "cell_type": "code",
   "execution_count": null,
   "id": "cfadeec5",
   "metadata": {},
   "outputs": [],
   "source": [
    "# Preview dataset\n",
    "dataset.head()"
   ]
  },
  {
   "cell_type": "code",
   "execution_count": null,
   "id": "7530f563",
   "metadata": {},
   "outputs": [],
   "source": [
    "# Shape of dataset\n",
    "print('Rows: {} Columns: {}'.format(dataset.shape[0], dataset.shape[1]))"
   ]
  },
  {
   "cell_type": "code",
   "execution_count": null,
   "id": "ececfe33",
   "metadata": {},
   "outputs": [],
   "source": [
    "# Features data-type\n",
    "dataset.info()"
   ]
  },
  {
   "cell_type": "code",
   "execution_count": null,
   "id": "d1fe29ae",
   "metadata": {},
   "outputs": [],
   "source": [
    "# Statistical summary\n",
    "dataset.describe().T"
   ]
  },
  {
   "cell_type": "code",
   "execution_count": null,
   "id": "9c99af7d",
   "metadata": {},
   "outputs": [],
   "source": [
    "# Check for null values\n",
    "round((dataset.isnull().sum() / dataset.shape[0]) * 100, 2).astype(str) + ' %'"
   ]
  },
  {
   "cell_type": "code",
   "execution_count": null,
   "id": "35d771e9",
   "metadata": {},
   "outputs": [],
   "source": [
    "# Check for '?' in dataset\n",
    "round((dataset.isin(['?']).sum() / dataset.shape[0])\n",
    "      * 100, 2).astype(str) + ' %'"
   ]
  },
  {
   "cell_type": "code",
   "execution_count": null,
   "id": "65873a01",
   "metadata": {},
   "outputs": [],
   "source": [
    "# Checking the counts of label categories\n",
    "income = dataset['income'].value_counts(normalize=True)\n",
    "round(income * 100, 2).astype('str') + ' %'"
   ]
  },
  {
   "cell_type": "code",
   "execution_count": null,
   "id": "0ec6e90f",
   "metadata": {},
   "outputs": [],
   "source": [
    "# Creating a barplot for 'Income'\n",
    "income = dataset['income'].value_counts()\n",
    "\n",
    "plt.style.use('seaborn-whitegrid')\n",
    "plt.figure(figsize=(7, 5))\n",
    "sns.barplot(income.index, income.values, palette='bright')\n",
    "plt.title('Distribution of Income', fontdict={\n",
    "          'fontname': 'Monospace', 'fontsize': 20, 'fontweight': 'bold'})\n",
    "plt.xlabel('Income', fontdict={'fontname': 'Monospace', 'fontsize': 15})\n",
    "plt.ylabel('Number of people', fontdict={\n",
    "           'fontname': 'Monospace', 'fontsize': 15})\n",
    "plt.tick_params(labelsize=10)\n",
    "plt.show()"
   ]
  },
  {
   "cell_type": "code",
   "execution_count": null,
   "id": "63b3fb23",
   "metadata": {},
   "outputs": [],
   "source": [
    "# Creating a barplot for 'Education'\n",
    "edu = dataset['education'].value_counts()\n",
    "\n",
    "plt.style.use('seaborn')\n",
    "plt.figure(figsize=(10, 5))\n",
    "sns.barplot(edu.values, edu.index, palette='Paired')\n",
    "plt.title('Distribution of Education', fontdict={\n",
    "          'fontname': 'Monospace', 'fontsize': 20, 'fontweight': 'bold'})\n",
    "plt.xlabel('Number of people', fontdict={\n",
    "           'fontname': 'Monospace', 'fontsize': 15})\n",
    "plt.ylabel('Education', fontdict={'fontname': 'Monospace', 'fontsize': 15})\n",
    "plt.tick_params(labelsize=12)\n",
    "plt.show()"
   ]
  },
  {
   "cell_type": "code",
   "execution_count": null,
   "id": "b40cb6a2",
   "metadata": {},
   "outputs": [],
   "source": [
    "# Creating a barplot for 'Years of Education'\n",
    "edu_num = dataset['education.num'].value_counts()\n",
    "\n",
    "plt.style.use('ggplot')\n",
    "plt.figure(figsize=(10, 5))\n",
    "sns.barplot(edu_num.index, edu_num.values, palette='colorblind')\n",
    "plt.title('Distribution of Years of Education', fontdict={\n",
    "          'fontname': 'Monospace', 'fontsize': 20, 'fontweight': 'bold'})\n",
    "plt.xlabel('Years of Education', fontdict={\n",
    "           'fontname': 'Monospace', 'fontsize': 15})\n",
    "plt.ylabel('Number of people', fontdict={\n",
    "           'fontname': 'Monospace', 'fontsize': 15})\n",
    "plt.tick_params(labelsize=12)\n",
    "plt.show()"
   ]
  },
  {
   "cell_type": "code",
   "execution_count": null,
   "id": "3a75b2b2",
   "metadata": {},
   "outputs": [],
   "source": [
    "# Creating a pie chart for 'Marital status'\n",
    "marital = dataset['marital.status'].value_counts()\n",
    "\n",
    "plt.style.use('default')\n",
    "plt.figure(figsize=(10, 7))\n",
    "plt.pie(marital.values, labels=marital.index, startangle=10, explode=(\n",
    "    0, 0.20, 0, 0, 0, 0, 0), shadow=True, autopct='%1.1f%%')\n",
    "plt.title('Marital distribution', fontdict={\n",
    "          'fontname': 'Monospace', 'fontsize': 20, 'fontweight': 'bold'})\n",
    "plt.legend()\n",
    "plt.legend(prop={'size': 7})\n",
    "plt.axis('equal')\n",
    "plt.show()"
   ]
  },
  {
   "cell_type": "code",
   "execution_count": null,
   "id": "f9680284",
   "metadata": {},
   "outputs": [],
   "source": [
    "# Creating a donut chart for 'Age'\n",
    "relation = dataset['relationship'].value_counts()\n",
    "\n",
    "plt.style.use('bmh')\n",
    "plt.figure(figsize=(20, 10))\n",
    "plt.pie(relation.values, labels=relation.index,\n",
    "        startangle=50, autopct='%1.1f%%')\n",
    "centre_circle = plt.Circle((0, 0), 0.7, fc='white')\n",
    "fig = plt.gcf()\n",
    "fig.gca().add_artist(centre_circle)\n",
    "plt.title('Relationship distribution', fontdict={\n",
    "          'fontname': 'Monospace', 'fontsize': 30, 'fontweight': 'bold'})\n",
    "plt.axis('equal')\n",
    "plt.legend(prop={'size': 15})\n",
    "plt.show()"
   ]
  },
  {
   "cell_type": "code",
   "execution_count": null,
   "id": "f3e46263",
   "metadata": {},
   "outputs": [],
   "source": [
    "# Creating a barplot for 'Sex'\n",
    "sex = dataset['sex'].value_counts()\n",
    "\n",
    "plt.style.use('default')\n",
    "plt.figure(figsize=(7, 5))\n",
    "sns.barplot(sex.index, sex.values)\n",
    "plt.title('Distribution of Sex', fontdict={\n",
    "          'fontname': 'Monospace', 'fontsize': 20, 'fontweight': 'bold'})\n",
    "plt.xlabel('Sex', fontdict={'fontname': 'Monospace', 'fontsize': 15})\n",
    "plt.ylabel('Number of people', fontdict={\n",
    "           'fontname': 'Monospace', 'fontsize': 15})\n",
    "plt.tick_params(labelsize=10)\n",
    "plt.grid()\n",
    "plt.show()"
   ]
  },
  {
   "cell_type": "code",
   "execution_count": null,
   "id": "3d33d8c0",
   "metadata": {},
   "outputs": [],
   "source": [
    "# Creating a Treemap for 'Race'\n",
    "import squarify\n",
    "race = dataset['race'].value_counts()\n",
    "\n",
    "plt.style.use('default')\n",
    "plt.figure(figsize=(7, 5))\n",
    "squarify.plot(sizes=race.values, label=race.index, value=race.values)\n",
    "plt.title('Race distribution', fontdict={\n",
    "          'fontname': 'Monospace', 'fontsize': 20, 'fontweight': 'bold'})\n",
    "plt.show()"
   ]
  },
  {
   "cell_type": "code",
   "execution_count": null,
   "id": "0b58c85b",
   "metadata": {},
   "outputs": [],
   "source": [
    "# Creating a barplot for 'Hours per week'\n",
    "hours = dataset['hours.per.week'].value_counts().head(10)\n",
    "\n",
    "plt.style.use('bmh')\n",
    "plt.figure(figsize=(15, 7))\n",
    "sns.barplot(hours.index, hours.values, palette='colorblind')\n",
    "plt.title('Distribution of Hours of work per week', fontdict={\n",
    "          'fontname': 'Monospace', 'fontsize': 20, 'fontweight': 'bold'})\n",
    "plt.xlabel('Hours of work', fontdict={'fontname': 'Monospace', 'fontsize': 15})\n",
    "plt.ylabel('Number of people', fontdict={\n",
    "           'fontname': 'Monospace', 'fontsize': 15})\n",
    "plt.tick_params(labelsize=12)\n",
    "plt.show()"
   ]
  },
  {
   "cell_type": "code",
   "execution_count": null,
   "id": "0cfb3c37",
   "metadata": {},
   "outputs": [],
   "source": [
    "# Creating a countplot of income across age\n",
    "plt.style.use('default')\n",
    "plt.figure(figsize=(20, 7))\n",
    "sns.countplot(dataset['age'], hue=dataset['income'])\n",
    "plt.title('Distribution of Income across Age', fontdict={\n",
    "          'fontname': 'Monospace', 'fontsize': 20, 'fontweight': 'bold'})\n",
    "plt.xlabel('Age', fontdict={'fontname': 'Monospace', 'fontsize': 15})\n",
    "plt.ylabel('Number of people', fontdict={\n",
    "           'fontname': 'Monospace', 'fontsize': 15})\n",
    "plt.tick_params(labelsize=12)\n",
    "plt.legend(loc=1, prop={'size': 15})\n",
    "plt.show()"
   ]
  },
  {
   "cell_type": "code",
   "execution_count": null,
   "id": "17787613",
   "metadata": {},
   "outputs": [],
   "source": [
    "# Creating a countplot of income across education\n",
    "plt.style.use('seaborn')\n",
    "plt.figure(figsize=(20, 7))\n",
    "sns.countplot(dataset['education'],\n",
    "              hue=dataset['income'], palette='colorblind')\n",
    "plt.title('Distribution of Income across Education', fontdict={\n",
    "          'fontname': 'Monospace', 'fontsize': 20, 'fontweight': 'bold'})\n",
    "plt.xlabel('Education', fontdict={'fontname': 'Monospace', 'fontsize': 15})\n",
    "plt.ylabel('Number of people', fontdict={\n",
    "           'fontname': 'Monospace', 'fontsize': 15})\n",
    "plt.tick_params(labelsize=12)\n",
    "plt.legend(loc=1, prop={'size': 15})\n",
    "plt.show()"
   ]
  },
  {
   "cell_type": "code",
   "execution_count": null,
   "id": "70765a1c",
   "metadata": {},
   "outputs": [],
   "source": [
    "# Creating a countplot of income across years of education\n",
    "plt.style.use('bmh')\n",
    "plt.figure(figsize=(20, 7))\n",
    "sns.countplot(dataset['education.num'],\n",
    "              hue=dataset['income'])\n",
    "plt.title('Income across Years of Education', fontdict={\n",
    "          'fontname': 'Monospace', 'fontsize': 20, 'fontweight': 'bold'})\n",
    "plt.xlabel('Years of Education', fontdict={\n",
    "           'fontname': 'Monospace', 'fontsize': 15})\n",
    "plt.ylabel('Number of people', fontdict={\n",
    "           'fontname': 'Monospace', 'fontsize': 15})\n",
    "plt.tick_params(labelsize=12)\n",
    "plt.legend(loc=1, prop={'size': 15})\n",
    "plt.savefig('bi2.png')\n",
    "plt.show()"
   ]
  },
  {
   "cell_type": "code",
   "execution_count": null,
   "id": "cc7ba514",
   "metadata": {},
   "outputs": [],
   "source": [
    "# Creating a countplot of income across Marital Status\n",
    "plt.style.use('seaborn')\n",
    "plt.figure(figsize=(20, 7))\n",
    "sns.countplot(dataset['marital.status'], hue=dataset['income'])\n",
    "plt.title('Income across Marital Status', fontdict={\n",
    "          'fontname': 'Monospace', 'fontsize': 20, 'fontweight': 'bold'})\n",
    "plt.xlabel('Marital Status', fontdict={\n",
    "           'fontname': 'Monospace', 'fontsize': 15})\n",
    "plt.ylabel('Number of people', fontdict={\n",
    "           'fontname': 'Monospace', 'fontsize': 15})\n",
    "plt.tick_params(labelsize=12)\n",
    "plt.legend(loc=1, prop={'size': 15})\n",
    "plt.show()"
   ]
  },
  {
   "cell_type": "code",
   "execution_count": null,
   "id": "02b2a52f",
   "metadata": {},
   "outputs": [],
   "source": [
    "# Creating a countplot of income across race\n",
    "plt.style.use('fivethirtyeight')\n",
    "plt.figure(figsize=(20, 7))\n",
    "sns.countplot(dataset['race'], hue=dataset['income'])\n",
    "plt.title('Distribution of income across race', fontdict={\n",
    "          'fontname': 'Monospace', 'fontsize': 20, 'fontweight': 'bold'})\n",
    "plt.xlabel('Race', fontdict={\n",
    "           'fontname': 'Monospace', 'fontsize': 15})\n",
    "plt.ylabel('Number of people', fontdict={\n",
    "           'fontname': 'Monospace', 'fontsize': 15})\n",
    "plt.tick_params(labelsize=12)\n",
    "plt.legend(loc=1, prop={'size': 15})\n",
    "plt.show()"
   ]
  },
  {
   "cell_type": "code",
   "execution_count": null,
   "id": "614a13de",
   "metadata": {},
   "outputs": [],
   "source": [
    "# Creating a countplot of income across sex\n",
    "plt.style.use('fivethirtyeight')\n",
    "plt.figure(figsize=(7, 3))\n",
    "sns.countplot(dataset['sex'], hue=dataset['income'])\n",
    "plt.title('Distribution of income across sex', fontdict={\n",
    "          'fontname': 'Monospace', 'fontsize': 20, 'fontweight': 'bold'})\n",
    "plt.xlabel('Sex', fontdict={\n",
    "           'fontname': 'Monospace', 'fontsize': 15})\n",
    "plt.ylabel('Number of people', fontdict={\n",
    "           'fontname': 'Monospace', 'fontsize': 15})\n",
    "plt.tick_params(labelsize=12)\n",
    "plt.legend(loc=1, prop={'size': 10})\n",
    "plt.savefig('bi3.png')\n",
    "plt.show()"
   ]
  },
  {
   "cell_type": "code",
   "execution_count": null,
   "id": "dbcec73a",
   "metadata": {},
   "outputs": [],
   "source": [
    "from sklearn.preprocessing import LabelEncoder\n",
    "le = LabelEncoder()"
   ]
  },
  {
   "cell_type": "code",
   "execution_count": null,
   "id": "01ea494f",
   "metadata": {},
   "outputs": [],
   "source": [
    "dataset['income'] = le.fit_transform(dataset['income'])"
   ]
  },
  {
   "cell_type": "code",
   "execution_count": null,
   "id": "5d501be8",
   "metadata": {},
   "outputs": [],
   "source": [
    "# Creating a pairplot of dataset\n",
    "sns.pairplot(dataset)\n",
    "plt.savefig('multi1.png')\n",
    "plt.show()"
   ]
  },
  {
   "cell_type": "code",
   "execution_count": null,
   "id": "bc7e805b",
   "metadata": {},
   "outputs": [],
   "source": [
    "corr = dataset.corr()\n",
    "mask = np.zeros_like(corr)\n",
    "mask[np.triu_indices_from(mask)] = True\n",
    "with sns.axes_style(\"white\"):\n",
    "    f, ax = plt.subplots(figsize=(7, 5))\n",
    "    ax = sns.heatmap(corr, mask=mask, vmax=.3, square=True,\n",
    "                     annot=True, cmap='RdYlGn')\n",
    "plt.savefig('multi2.png')\n",
    "plt.show()"
   ]
  },
  {
   "cell_type": "code",
   "execution_count": null,
   "id": "33a74cd1",
   "metadata": {},
   "outputs": [],
   "source": []
  }
 ],
 "metadata": {
  "kernelspec": {
   "display_name": "Python 3",
   "language": "python",
   "name": "python3"
  },
  "language_info": {
   "codemirror_mode": {
    "name": "ipython",
    "version": 3
   },
   "file_extension": ".py",
   "mimetype": "text/x-python",
   "name": "python",
   "nbconvert_exporter": "python",
   "pygments_lexer": "ipython3",
   "version": "3.8.8"
  }
 },
 "nbformat": 4,
 "nbformat_minor": 5
}
