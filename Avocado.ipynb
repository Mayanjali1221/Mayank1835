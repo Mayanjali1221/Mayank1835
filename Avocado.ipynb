{
 "cells": [
  {
   "cell_type": "code",
   "execution_count": null,
   "id": "2deb3264",
   "metadata": {},
   "outputs": [],
   "source": [
    "import pandas as pd\n",
    "import numpy as np\n",
    "import seaborn as sns\n",
    "import matplotlib.pyplot as plt\n",
    "%matplotlib inline\n",
    "import warnings\n",
    "warnings.filterwarnings('ignore')"
   ]
  },
  {
   "cell_type": "code",
   "execution_count": null,
   "id": "37c84883",
   "metadata": {},
   "outputs": [],
   "source": [
    "# import our dataset\n",
    "data = pd.read_csv('avocado.csv')"
   ]
  },
  {
   "cell_type": "code",
   "execution_count": null,
   "id": "33d53931",
   "metadata": {},
   "outputs": [],
   "source": [
    "# first 10 observations of our dataset\n",
    "data.head(10)"
   ]
  },
  {
   "cell_type": "code",
   "execution_count": null,
   "id": "43d84e73",
   "metadata": {},
   "outputs": [],
   "source": [
    "# renaming column names into meaningful names (refer kaggle's avacado dataset description)\n",
    "data = data.rename(columns={'4046':'PLU_4046','4225':'PLU_4225','4770':'PLU_4770'})"
   ]
  },
  {
   "cell_type": "code",
   "execution_count": null,
   "id": "85335157",
   "metadata": {},
   "outputs": [],
   "source": [
    "# removing unnecessary column\n",
    "data = data.drop(['Unnamed: 0'],axis = 1)\n",
    "data.head(10)"
   ]
  },
  {
   "cell_type": "code",
   "execution_count": null,
   "id": "7105370b",
   "metadata": {},
   "outputs": [],
   "source": [
    "# convert the type of Date feature from obj to datetime type\n",
    "data['Date'] = pd.to_datetime(data['Date'])"
   ]
  },
  {
   "cell_type": "code",
   "execution_count": null,
   "id": "31cf0b15",
   "metadata": {},
   "outputs": [],
   "source": [
    "# categorizing into several seasons\n",
    "def season_of_date(date):\n",
    "    year = str(date.year)\n",
    "    seasons = {'spring': pd.date_range(start='21/03/'+year, end='20/06/'+year),\n",
    "               'summer': pd.date_range(start='21/06/'+year, end='22/09/'+year),\n",
    "               'autumn': pd.date_range(start='23/09/'+year, end='20/12/'+year)}\n",
    "    if date in seasons['spring']:\n",
    "        return 'spring'\n",
    "    if date in seasons['summer']:\n",
    "        return 'summer'\n",
    "    if date in seasons['autumn']:\n",
    "        return 'autumn'\n",
    "    else:\n",
    "        return 'winter'"
   ]
  },
  {
   "cell_type": "code",
   "execution_count": null,
   "id": "10cba529",
   "metadata": {},
   "outputs": [],
   "source": [
    "# creating a new feature 'season' and assign the corresponding season for the Date using map function over our season_of_date function\n",
    "data['season'] = data.Date.map(season_of_date)"
   ]
  },
  {
   "cell_type": "code",
   "execution_count": null,
   "id": "82d310a3",
   "metadata": {},
   "outputs": [],
   "source": [
    "# now, we can see the season feature appended at the last\n",
    "data.head(10)"
   ]
  },
  {
   "cell_type": "code",
   "execution_count": null,
   "id": "b26dd7cd",
   "metadata": {},
   "outputs": [],
   "source": [
    "# no of observations for each seasons\n",
    "data.season.value_counts()"
   ]
  },
  {
   "cell_type": "code",
   "execution_count": null,
   "id": "7131fbc7",
   "metadata": {},
   "outputs": [],
   "source": [
    "# droping date feature\n",
    "data = data.drop(['Date'],axis = 1)"
   ]
  },
  {
   "cell_type": "code",
   "execution_count": null,
   "id": "53a724f0",
   "metadata": {},
   "outputs": [],
   "source": [
    "# converting categorical features of text data into model-understandable numerical data\n",
    "label_cols = ['type','region','season']\n",
    "from sklearn.preprocessing import LabelEncoder\n",
    "label = LabelEncoder()\n",
    "data[label_cols] = data[label_cols].apply(lambda x : label.fit_transform(x))"
   ]
  },
  {
   "cell_type": "code",
   "execution_count": null,
   "id": "58f5371f",
   "metadata": {},
   "outputs": [],
   "source": [
    "# Scaling the features and \n",
    "# spliting the label encoded features into distinct features inorder to prevent our model to think that columns have data with some kind of order or hierarchy\n",
    "# column_tranformer allows us to combine several feature extraction or transformation methods into a single transformer\n",
    "from sklearn.compose import make_column_transformer\n",
    "from sklearn.preprocessing import StandardScaler\n",
    "from sklearn.preprocessing import OneHotEncoder\n",
    "scale_cols = data.drop(['AveragePrice','type','year','region','season'],axis=1)\n",
    "col_trans = make_column_transformer(\n",
    "            (OneHotEncoder(), data[label_cols].columns),\n",
    "            (StandardScaler(), scale_cols.columns),\n",
    "            remainder = 'passthrough')"
   ]
  },
  {
   "cell_type": "code",
   "execution_count": null,
   "id": "621b99c7",
   "metadata": {},
   "outputs": [],
   "source": [
    "# splitting our dataset into train and test set such that 20% of observations are considered as test set\n",
    "X = data.drop(['AveragePrice'],axis=1)\n",
    "y = data.AveragePrice\n",
    "from sklearn.model_selection import train_test_split\n",
    "X_train, X_test, y_train, y_test = train_test_split(X, y, test_size = 0.20, random_state = 0)"
   ]
  },
  {
   "cell_type": "code",
   "execution_count": null,
   "id": "a7d1045d",
   "metadata": {},
   "outputs": [],
   "source": [
    "from sklearn.pipeline import make_pipeline\n",
    "from sklearn.linear_model import LinearRegression\n",
    "linreg = LinearRegression()\n",
    "pipe = make_pipeline(col_trans,linreg)\n",
    "pipe.fit(X_train,y_train)"
   ]
  },
  {
   "cell_type": "code",
   "execution_count": null,
   "id": "2ee5c0d7",
   "metadata": {},
   "outputs": [],
   "source": [
    "y_pred_test = pipe.predict(X_test)"
   ]
  },
  {
   "cell_type": "code",
   "execution_count": null,
   "id": "89f22696",
   "metadata": {},
   "outputs": [],
   "source": [
    "from sklearn.metrics import mean_absolute_error,mean_squared_error\n",
    "print('MAE for testing set: {}'.format(mean_absolute_error(y_pred_test,y_test)))\n",
    "print('MSE for testing set: {}'.format(mean_squared_error(y_pred_test,y_test)))\n",
    "print('RMSE for testing set: {}'.format(np.sqrt(mean_squared_error(y_pred_test,y_test))))"
   ]
  },
  {
   "cell_type": "code",
   "execution_count": null,
   "id": "b89df03a",
   "metadata": {},
   "outputs": [],
   "source": [
    "from sklearn.svm import SVR\n",
    "svr = SVR()\n",
    "pipe = make_pipeline(col_trans,svr)\n",
    "pipe.fit(X_train,y_train)"
   ]
  },
  {
   "cell_type": "code",
   "execution_count": null,
   "id": "ea186136",
   "metadata": {},
   "outputs": [],
   "source": [
    "y_pred_test = pipe.predict(X_test)"
   ]
  },
  {
   "cell_type": "code",
   "execution_count": null,
   "id": "bcb9539f",
   "metadata": {},
   "outputs": [],
   "source": [
    "print('MAE for testing set: {}'.format(mean_absolute_error(y_pred_test,y_test)))\n",
    "print('MSE for testing set: {}'.format(mean_squared_error(y_pred_test,y_test)))\n",
    "print('RMSE for testing set: {}'.format(np.sqrt(mean_squared_error(y_pred_test,y_test))))"
   ]
  },
  {
   "cell_type": "code",
   "execution_count": null,
   "id": "0a3a5051",
   "metadata": {},
   "outputs": [],
   "source": [
    "from sklearn.tree import DecisionTreeRegressor\n",
    "dr=DecisionTreeRegressor()\n",
    "pipe = make_pipeline(col_trans,dr)\n",
    "pipe.fit(X_train,y_train)"
   ]
  },
  {
   "cell_type": "code",
   "execution_count": null,
   "id": "54ce1cde",
   "metadata": {},
   "outputs": [],
   "source": [
    "y_pred_test = pipe.predict(X_test)"
   ]
  },
  {
   "cell_type": "code",
   "execution_count": null,
   "id": "4971b26f",
   "metadata": {},
   "outputs": [],
   "source": [
    "print('MAE for testing set: {}'.format(mean_absolute_error(y_pred_test,y_test)))\n",
    "print('MSE for testing set: {}'.format(mean_squared_error(y_pred_test,y_test)))\n",
    "print('RMSE for testing set: {}'.format(np.sqrt(mean_squared_error(y_pred_test,y_test))))"
   ]
  },
  {
   "cell_type": "code",
   "execution_count": null,
   "id": "ea721969",
   "metadata": {},
   "outputs": [],
   "source": [
    "from sklearn.ensemble import RandomForestRegressor\n",
    "forest_model = RandomForestRegressor()\n",
    "pipe = make_pipeline(col_trans,forest_model)\n",
    "pipe.fit(X_train,y_train)"
   ]
  },
  {
   "cell_type": "code",
   "execution_count": null,
   "id": "862f8911",
   "metadata": {},
   "outputs": [],
   "source": [
    "y_pred_test = pipe.predict(X_test)"
   ]
  },
  {
   "cell_type": "code",
   "execution_count": null,
   "id": "077fb57f",
   "metadata": {},
   "outputs": [],
   "source": [
    "print('MAE for testing set: {}'.format(mean_absolute_error(y_pred_test,y_test)))\n",
    "print('MSE for testing set: {}'.format(mean_squared_error(y_pred_test,y_test)))\n",
    "print('RMSE for testing set: {}'.format(np.sqrt(mean_squared_error(y_pred_test,y_test))))"
   ]
  },
  {
   "cell_type": "code",
   "execution_count": null,
   "id": "4d3518b9",
   "metadata": {},
   "outputs": [],
   "source": [
    "sns.distplot((y_test-y_pred_test),bins=50)"
   ]
  }
 ],
 "metadata": {
  "kernelspec": {
   "display_name": "Python 3",
   "language": "python",
   "name": "python3"
  },
  "language_info": {
   "codemirror_mode": {
    "name": "ipython",
    "version": 3
   },
   "file_extension": ".py",
   "mimetype": "text/x-python",
   "name": "python",
   "nbconvert_exporter": "python",
   "pygments_lexer": "ipython3",
   "version": "3.8.8"
  }
 },
 "nbformat": 4,
 "nbformat_minor": 5
}
